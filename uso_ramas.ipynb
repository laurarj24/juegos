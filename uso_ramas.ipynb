{
 "cells": [
  {
   "cell_type": "code",
   "execution_count": null,
   "metadata": {},
   "outputs": [],
   "source": [
    "# ESTRUCTURA JUEGO\n",
    "\n",
    "# Tarea 1 ==> Importar librerias necesarias\n",
    "\n",
    "import re\n",
    "import tkinter as tk\n",
    "from tkinter import *\n",
    "import random\n",
    "\n",
    "# Tarea 2 ==> Hacer diccionario de preguntas como clave y respuestas como valor\n",
    "\n",
    "# Tarea 3 ==> Diseñar función para selección aleatoria de preguntas del diccionario, \n",
    "# y una vez elegida que la elimine del mismo para que no salga dos veces la misma pregunta\n",
    "\n",
    "# Tarea 4 ==> Diseñar función con el bucle while que nos permita que tras acertar o fallar \n",
    "# una pregunta se inicialice una nueva hasta que el jugador gaste el numero de intentos permitidos o bien acierte \n",
    "# las suficientes preguntas para ganar\n",
    "\n",
    "# Tarea 5 ==> Diseñar interfaz gráfica"
   ]
  }
 ],
 "metadata": {
  "language_info": {
   "name": "python"
  }
 },
 "nbformat": 4,
 "nbformat_minor": 2
}
