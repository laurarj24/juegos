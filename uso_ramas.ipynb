{
 "cells": [
  {
   "cell_type": "code",
   "execution_count": null,
   "metadata": {},
   "outputs": [],
   "source": [
    "# ESTRUCTURA JUEGO\n",
    "\n",
    "# Tarea 1 ==> Importar librerias necesarias\n",
    "\n",
    "import re\n",
    "import tkinter as tk\n",
    "from tkinter import *\n",
    "import random\n",
    "\n",
    "# Tarea 2 ==> Hacer diccionario de preguntas como clave y respuestas como valor\n",
    "\n",
    "preguntas_respuestas = {\n",
    "    \"¿Cuál es la capital de Canadá?\": \"Ottawa\",\n",
    "    \"¿Qué planeta es conocido como el Planeta Rojo?\": \"Marte\",\n",
    "    \"¿En qué año comenzó la Segunda Guerra Mundial?\": \"1939\",\n",
    "    \"¿Cuál es el símbolo químico del oro?\": \"Au\",\n",
    "    \"¿Quién pintó La Última Cena?\": \"Leonardo da Vinci\",\n",
    "    \"¿Qué océano es el más grande del mundo?\": \"Océano Pacífico\",\n",
    "    \"¿Quién escribió *Don Quijote de la Mancha*?\": \"Miguel de Cervantes\",\n",
    "    \"¿Qué país tiene forma de bota en el mapa?\": \"Italia\",\n",
    "    \"¿Cómo se llama la molécula que contiene la información genética?\": \"ADN\",\n",
    "    \"¿Cuántos jugadores hay en un equipo de baloncesto en la cancha?\": \"Cinco\",\n",
    "    \"¿Cuál es el idioma oficial de Brasil?\": \"Portugués\",\n",
    "    \"¿Qué montaña es la más alta del mundo?\": \"Monte Everest\",\n",
    "    \"¿Qué número romano representa el 50?\": \"L\",\n",
    "    \"¿Qué elemento tiene el número atómico 1?\": \"Hidrógeno\",\n",
    "    \"¿Quién fue el primer hombre en pisar la Luna?\": \"Neil Armstrong\",\n",
    "    \"¿En qué continente se encuentra el desierto del Sahara?\": \"África\",\n",
    "    \"¿Qué compositor alemán quedó sordo y aún así compuso la Novena Sinfonía?\": \"Ludwig van Beethoven\",\n",
    "    \"¿Cómo se llama el triángulo con dos lados iguales?\": \"Isósceles\",\n",
    "    \"¿Cuál es el libro más vendido del mundo después de la Biblia?\": \"Don Quijote de la Mancha\",\n",
    "    \"¿Qué río es el más largo del mundo?\": \"Río Amazonas\",\n",
    "}\n",
    "\n",
    "\n",
    "# Tarea 3 ==> Diseñar función para selección aleatoria de preguntas del diccionario, \n",
    "# y una vez elegida que la elimine del mismo para que no salga dos veces la misma pregunta\n",
    "\n",
    "# Tarea 4 ==> Diseñar función con el bucle while que nos permita que tras acertar o fallar \n",
    "# una pregunta se inicialice una nueva hasta que el jugador gaste el numero de intentos permitidos o bien acierte \n",
    "# las suficientes preguntas para ganar\n",
    "\n",
    "# Tarea 5 ==> Diseñar interfaz gráfica"
   ]
  }
 ],
 "metadata": {
  "language_info": {
   "name": "python"
  }
 },
 "nbformat": 4,
 "nbformat_minor": 2
}
